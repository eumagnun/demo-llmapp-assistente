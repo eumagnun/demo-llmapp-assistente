{
  "cells": [
    {
      "cell_type": "code",
      "execution_count": null,
      "metadata": {
        "id": "aDy5NoFkPGWc"
      },
      "outputs": [],
      "source": [
        "# Copyright 2023 Google LLC\n",
        "#\n",
        "# Licensed under the Apache License, Version 2.0 (the \"License\");\n",
        "# you may not use this file except in compliance with the License.\n",
        "# You may obtain a copy of the License at\n",
        "#\n",
        "#     https://www.apache.org/licenses/LICENSE-2.0\n",
        "#\n",
        "# Unless required by applicable law or agreed to in writing, software\n",
        "# distributed under the License is distributed on an \"AS IS\" BASIS,\n",
        "# WITHOUT WARRANTIES OR CONDITIONS OF ANY KIND, either express or implied.\n",
        "# See the License for the specific language governing permissions and\n",
        "# limitations under the License."
      ]
    },
    {
      "cell_type": "markdown",
      "metadata": {
        "id": "HU7t4xwB90Hs"
      },
      "source": [
        "# **1-Imports**"
      ]
    },
    {
      "cell_type": "code",
      "execution_count": null,
      "metadata": {
        "id": "DDmO6kc3wmKM"
      },
      "outputs": [],
      "source": [
        "from google.colab import auth\n",
        "from vertexai.generative_models import GenerativeModel, Part, FinishReason, Tool\n",
        "import IPython\n",
        "from IPython.display import display, Markdown\n",
        "import base64\n",
        "import io\n",
        "import vertexai\n",
        "import time\n",
        "\n",
        "from google.colab import files\n",
        "from vertexai.preview.generative_models import GenerativeModel, Part\n",
        "import vertexai.preview.generative_models as generative_models\n",
        "\n",
        "auth.authenticate_user()"
      ]
    },
    {
      "cell_type": "markdown",
      "metadata": {
        "id": "gob7VjaY-CUZ"
      },
      "source": [
        "# **2-Setup Project**"
      ]
    },
    {
      "cell_type": "code",
      "execution_count": null,
      "metadata": {
        "id": "s7DxRFP6xaB3"
      },
      "outputs": [],
      "source": [
        "project_id = \"llmapps-from-zero-to-hero\"  #@param Replace with your project ID\n",
        "location = \"us-central1\"                    #Replace with your location\n",
        "model_name = \"gemini-1.5-flash-001\"  #Replace with model name\n",
        "#model_name = \"gemini-1.5-pro-001\"  #Replace with model name\n",
        "\n",
        "vertexai.init(project=project_id, location=location)\n",
        "tools = [\n",
        "    Tool.from_retrieval(\n",
        "        retrieval=generative_models.grounding.Retrieval(\n",
        "            source=generative_models.grounding.VertexAISearch(datastore=\"projects/project-poc-purple/locations/global/collections/default_collection/dataStores/demo-search-porto-ocr_1717682472263\"),\n",
        "            disable_attribution=False,\n",
        "        )\n",
        "    ),\n",
        "]\n",
        "model = GenerativeModel(model_name,tools=tools,)"
      ]
    },
    {
      "cell_type": "markdown",
      "metadata": {
        "id": "QElC_t9pAVML"
      },
      "source": [
        "# **3-Funções**"
      ]
    },
    {
      "cell_type": "code",
      "execution_count": null,
      "metadata": {
        "id": "ScnkFtWq9-cH"
      },
      "outputs": [],
      "source": [
        "def generate(\n",
        "        pergunta: str,\n",
        "        max_output_tokens: int = 8192,\n",
        "        temperature: int = 0.4,\n",
        "        top_p: float = 0.4,\n",
        "        stream: bool = False\n",
        "):\n",
        "\n",
        "    prompt_full = \"\"\"\n",
        "                  <instrucoes>\n",
        "                    - Você é Mia, uma assistente da empresa Tabajara\n",
        "                    - Você é uma super especialista em análise de perfis de clientes e gestão financeira\n",
        "                    - Sua missão é responder detalhadamente as dúvidas de colaboradores da empresa Tabajara sobre perfis de clientes e gestão financeira\n",
        "                    - Não responda perguntas que fogem da sua missão\n",
        "                    - SEJA GENTIL E EDUCADA NAS SUAS RESPOSTAS\n",
        "                    - NÃO INVENTE CONTEÚDO\n",
        "                    - Formate a resposta em markdown\n",
        "                  </instrucoes>\n",
        "\n",
        "                  <pergunta>\n",
        "                    {pergunta}\n",
        "                  </pergunta>\n",
        "                  \"\"\"\n",
        "\n",
        "    prompt=[prompt_full.format(pergunta=pergunta)]\n",
        "    responses = model.generate_content(\n",
        "\n",
        "        prompt,\n",
        "        generation_config={\n",
        "            \"max_output_tokens\": max_output_tokens,\n",
        "            \"temperature\": temperature,\n",
        "            \"top_p\": top_p\n",
        "        },\n",
        "        safety_settings={\n",
        "          generative_models.HarmCategory.HARM_CATEGORY_HATE_SPEECH: generative_models.HarmBlockThreshold.BLOCK_MEDIUM_AND_ABOVE,\n",
        "          generative_models.HarmCategory.HARM_CATEGORY_DANGEROUS_CONTENT: generative_models.HarmBlockThreshold.BLOCK_MEDIUM_AND_ABOVE,\n",
        "          generative_models.HarmCategory.HARM_CATEGORY_SEXUALLY_EXPLICIT: generative_models.HarmBlockThreshold.BLOCK_MEDIUM_AND_ABOVE,\n",
        "          generative_models.HarmCategory.HARM_CATEGORY_HARASSMENT: generative_models.HarmBlockThreshold.BLOCK_MEDIUM_AND_ABOVE,\n",
        "        },\n",
        "        stream=stream\n",
        "    )\n",
        "\n",
        "    return responses\n",
        "\n"
      ]
    },
    {
      "cell_type": "markdown",
      "metadata": {
        "id": "t-MlEAKSAjC6"
      },
      "source": []
    },
    {
      "cell_type": "markdown",
      "metadata": {
        "id": "nvGx1jj3An6R"
      },
      "source": [
        "# **4-Submeta sua pergunta**"
      ]
    },
    {
      "cell_type": "code",
      "execution_count": null,
      "metadata": {
        "id": "nJ7S9P6LxtYP",
        "colab": {
          "base_uri": "https://localhost:8080/",
          "height": 264
        },
        "outputId": "c58a943a-27af-4e1b-9ed2-7a9fb133fdaa",
        "executionInfo": {
          "status": "ok",
          "timestamp": 1718590267122,
          "user_tz": 180,
          "elapsed": 5065,
          "user": {
            "displayName": "",
            "userId": ""
          }
        }
      },
      "outputs": [
        {
          "output_type": "display_data",
          "data": {
            "text/plain": [
              "<IPython.core.display.Markdown object>"
            ],
            "text/markdown": "## O que é um Cliente Indeciso?\n\nO Cliente Indeciso é aquele que demonstra dificuldade em tomar decisões de compra. Ele geralmente apresenta um comportamento hesitante, buscando mais informações e comparando diferentes opções antes de se decidir. \n\nEsse tipo de cliente pode ser influenciado por diversos fatores, como:\n\n* **Falta de conhecimento sobre o produto ou serviço:** O cliente pode não ter clareza sobre as características, benefícios e funcionalidades do que está sendo oferecido.\n* **Dúvidas sobre o valor:** O cliente pode estar inseguro sobre o preço do produto ou serviço, comparando-o com outras opções disponíveis no mercado.\n* **Medo de tomar a decisão errada:** O cliente pode ter receio de se arrepender da compra, especialmente se for um investimento significativo.\n* **Influência de outras pessoas:** O cliente pode estar sendo influenciado por opiniões de amigos, familiares ou colegas de trabalho, o que pode gerar conflito interno e dificultar a decisão.\n\nÉ importante entender as motivações por trás da indecisão do cliente para oferecer o suporte adequado e ajudá-lo a tomar uma decisão. \n"
          },
          "metadata": {}
        }
      ],
      "source": [
        "pergunta= \"Defina o que é o Cliente indeciso\"\n",
        "responses = generate(pergunta=pergunta)\n",
        "display(Markdown(responses.text))"
      ]
    }
  ],
  "metadata": {
    "colab": {
      "provenance": [],
      "name": "from-zero-to-hero-demo-assistente.ipynb"
    },
    "kernelspec": {
      "display_name": "Python 3",
      "name": "python3"
    },
    "language_info": {
      "name": "python"
    }
  },
  "nbformat": 4,
  "nbformat_minor": 0
}